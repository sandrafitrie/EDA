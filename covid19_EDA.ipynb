{
 "cells": [
  {
   "cell_type": "code",
   "execution_count": 1,
   "metadata": {},
   "outputs": [],
   "source": [
    "import pandas as pd\n",
    "import matplotlib.pyplot as plt"
   ]
  },
  {
   "cell_type": "code",
   "execution_count": 2,
   "metadata": {},
   "outputs": [],
   "source": [
    "# Dataset:https://www.kaggle.com/datasets/hendratno/covid19-indonesia\n",
    "df=pd.read_csv(r\"C:\\Users\\win10\\Downloads\\covid_19_indonesia_time_series_all.csv\")"
   ]
  },
  {
   "cell_type": "code",
   "execution_count": 3,
   "metadata": {},
   "outputs": [
    {
     "data": {
      "text/plain": [
       "21759"
      ]
     },
     "execution_count": 3,
     "metadata": {},
     "output_type": "execute_result"
    }
   ],
   "source": [
    "len(df)"
   ]
  },
  {
   "cell_type": "code",
   "execution_count": 4,
   "metadata": {},
   "outputs": [
    {
     "data": {
      "text/plain": [
       "Date                            object\n",
       "Location ISO Code               object\n",
       "Location                        object\n",
       "New Cases                        int64\n",
       "New Deaths                       int64\n",
       "New Recovered                    int64\n",
       "New Active Cases                 int64\n",
       "Total Cases                      int64\n",
       "Total Deaths                     int64\n",
       "Total Recovered                  int64\n",
       "Total Active Cases               int64\n",
       "Location Level                  object\n",
       "City or Regency                float64\n",
       "Province                        object\n",
       "Country                         object\n",
       "Continent                       object\n",
       "Island                          object\n",
       "Time Zone                       object\n",
       "Special Status                  object\n",
       "Total Regencies                  int64\n",
       "Total Cities                   float64\n",
       "Total Districts                  int64\n",
       "Total Urban Villages           float64\n",
       "Total Rural Villages           float64\n",
       "Area (km2)                       int64\n",
       "Population                       int64\n",
       "Population Density             float64\n",
       "Longitude                      float64\n",
       "Latitude                       float64\n",
       "New Cases per Million          float64\n",
       "Total Cases per Million        float64\n",
       "New Deaths per Million         float64\n",
       "Total Deaths per Million       float64\n",
       "Total Deaths per 100rb         float64\n",
       "Case Fatality Rate              object\n",
       "Case Recovered Rate             object\n",
       "Growth Factor of New Cases     float64\n",
       "Growth Factor of New Deaths    float64\n",
       "dtype: object"
      ]
     },
     "execution_count": 4,
     "metadata": {},
     "output_type": "execute_result"
    }
   ],
   "source": [
    "df.dtypes"
   ]
  },
  {
   "cell_type": "code",
   "execution_count": 16,
   "metadata": {
    "scrolled": false
   },
   "outputs": [
    {
     "data": {
      "text/plain": [
       "Index(['Date', 'Location ISO Code', 'Location', 'New Cases', 'New Deaths',\n",
       "       'New Recovered', 'New Active Cases', 'Total Cases', 'Total Deaths',\n",
       "       'Total Recovered', 'Total Active Cases', 'Location Level',\n",
       "       'City or Regency', 'Province', 'Country', 'Continent', 'Island',\n",
       "       'Time Zone', 'Special Status', 'Total Regencies', 'Total Cities',\n",
       "       'Total Districts', 'Total Urban Villages', 'Total Rural Villages',\n",
       "       'Area (km2)', 'Population', 'Population Density', 'Longitude',\n",
       "       'Latitude', 'New Cases per Million', 'Total Cases per Million',\n",
       "       'New Deaths per Million', 'Total Deaths per Million',\n",
       "       'Total Deaths per 100rb', 'Case Fatality Rate', 'Case Recovered Rate',\n",
       "       'Growth Factor of New Cases', 'Growth Factor of New Deaths'],\n",
       "      dtype='object')"
      ]
     },
     "execution_count": 16,
     "metadata": {},
     "output_type": "execute_result"
    }
   ],
   "source": [
    "# check the column names\n",
    "df.columns"
   ]
  },
  {
   "cell_type": "code",
   "execution_count": 12,
   "metadata": {
    "scrolled": true
   },
   "outputs": [
    {
     "data": {
      "text/plain": [
       "Province\n",
       "DKI Jakarta                   208594013\n",
       "Jawa Barat                    150615019\n",
       "Jawa Tengah                   104601886\n",
       "Jawa Timur                     87819795\n",
       "Kalimantan Timur               34358373\n",
       "Sulawesi Selatan               28476774\n",
       "Daerah Istimewa Yogyakarta     28145118\n",
       "Riau                           27139120\n",
       "Banten                         26876689\n",
       "Bali                           23785447\n",
       "Sumatera Barat                 20656128\n",
       "Sumatera Utara                 20364282\n",
       "Kalimantan Selatan             16279357\n",
       "Sumatera Selatan               12979027\n",
       "Nusa Tenggara Timur            10493075\n",
       "Kalimantan Tengah              10237310\n",
       "Kepulauan Riau                 10187837\n",
       "Lampung                         9600051\n",
       "Papua                           9418457\n",
       "Kepulauan Bangka Belitung       8938863\n",
       "Sulawesi Utara                  8252633\n",
       "Sulawesi Tengah                 7971193\n",
       "Aceh                            7895721\n",
       "Kalimantan Barat                6858126\n",
       "Kalimantan Utara                6598750\n",
       "Nusa Tenggara Barat             6153443\n",
       "Jambi                           5456325\n",
       "Sulawesi Tenggara               5333286\n",
       "Papua Barat                     5225734\n",
       "Bengkulu                        4475334\n",
       "Maluku                          3982760\n",
       "Gorontalo                       2817730\n",
       "Maluku Utara                    2775261\n",
       "Sulawesi Barat                  2689823\n",
       "Name: Total Cases, dtype: int64"
      ]
     },
     "execution_count": 12,
     "metadata": {},
     "output_type": "execute_result"
    }
   ],
   "source": [
    "# Find the highest total cases by province \n",
    "df.groupby('Province')['Total Cases'].sum().sort_values(ascending=False)"
   ]
  },
  {
   "cell_type": "code",
   "execution_count": 16,
   "metadata": {},
   "outputs": [
    {
     "data": {
      "image/png": "[encoded data removed]",
      "text/plain": [
       "<Figure size 720x504 with 1 Axes>"
      ]
     },
     "metadata": {
      "needs_background": "light"
     },
     "output_type": "display_data"
    }
   ],
   "source": [
    "# Plotting the answer with bar chart\n",
    "product_group = df.groupby('Province')\n",
    "quantity_ordered = product_group.sum()['Total Cases']\n",
    "\n",
    "keys = [pair for pair, df in product_group]\n",
    "plt.figure(figsize=(10,7))\n",
    "plt.bar(keys, quantity_ordered)\n",
    "plt.xticks(keys, rotation='vertical', size=8)\n",
    "plt.title('Distribution sum of the Total Cases Covid-19 by Province')\n",
    "plt.xlabel('Province')\n",
    "plt.ylabel('Total')\n",
    "plt.show()"
   ]
  },
  {
   "cell_type": "code",
   "execution_count": 17,
   "metadata": {},
   "outputs": [
    {
     "data": {
      "text/plain": [
       "Province\n",
       "Jawa Timur                    6482760\n",
       "Jawa Tengah                   5687699\n",
       "DKI Jakarta                   3420849\n",
       "Jawa Barat                    2653330\n",
       "Kalimantan Timur              1029837\n",
       "Daerah Istimewa Yogyakarta     853993\n",
       "Riau                           772172\n",
       "Bali                           743026\n",
       "Sumatera Selatan               646452\n",
       "Lampung                        631393\n",
       "Sumatera Utara                 605388\n",
       "Banten                         604657\n",
       "Kalimantan Selatan             540913\n",
       "Sulawesi Selatan               527722\n",
       "Sumatera Barat                 469542\n",
       "Aceh                           360497\n",
       "Kepulauan Riau                 291105\n",
       "Kalimantan Tengah              279728\n",
       "Sulawesi Utara                 264951\n",
       "Sulawesi Tengah                249549\n",
       "Nusa Tenggara Timur            224849\n",
       "Nusa Tenggara Barat            210638\n",
       "Kepulauan Bangka Belitung      207668\n",
       "Kalimantan Barat               149422\n",
       "Papua                          134431\n",
       "Kalimantan Utara               125859\n",
       "Jambi                          123556\n",
       "Sulawesi Tenggara              118203\n",
       "Bengkulu                        97985\n",
       "Gorontalo                       92510\n",
       "Papua Barat                     82576\n",
       "Maluku Utara                    74370\n",
       "Maluku                          64634\n",
       "Sulawesi Barat                  63429\n",
       "Name: Total Deaths, dtype: int64"
      ]
     },
     "execution_count": 17,
     "metadata": {},
     "output_type": "execute_result"
    }
   ],
   "source": [
    "# Find the highest deaths covid-19 by province\n",
    "df.groupby('Province')['Total Deaths'].sum().sort_values(ascending=False)"
   ]
  },
  {
   "cell_type": "code",
   "execution_count": 18,
   "metadata": {},
   "outputs": [
    {
     "data": {
      "image/png": "[encoded data removed]",
      "text/plain": [
       "<Figure size 720x504 with 1 Axes>"
      ]
     },
     "metadata": {
      "needs_background": "light"
     },
     "output_type": "display_data"
    }
   ],
   "source": [
    "# Plotting with bar chart\n",
    "product_group = df.groupby('Province')\n",
    "quantity_ordered = product_group.sum()['Total Deaths']\n",
    "\n",
    "keys = [pair for pair, df in product_group]\n",
    "plt.figure(figsize=(10,7))\n",
    "plt.bar(keys, quantity_ordered)\n",
    "plt.xticks(keys, rotation='vertical', size=8)\n",
    "plt.title('Distribution sum of the Total Deaths Covid-19 by Province')\n",
    "plt.xlabel('Province')\n",
    "plt.ylabel('Total')\n",
    "plt.show()"
   ]
  },
  {
   "cell_type": "code",
   "execution_count": 89,
   "metadata": {},
   "outputs": [
    {
     "data": {
      "text/plain": [
       "Province\n",
       "DKI Jakarta                   197475361\n",
       "Jawa Barat                    136201392\n",
       "Jawa Tengah                    88998394\n",
       "Jawa Timur                     77904298\n",
       "Kalimantan Timur               31284556\n",
       "Sulawesi Selatan               26343555\n",
       "Riau                           24923162\n",
       "Banten                         24682144\n",
       "Daerah Istimewa Yogyakarta     24551712\n",
       "Bali                           21432901\n",
       "Sumatera Barat                 18805743\n",
       "Sumatera Utara                 17594021\n",
       "Kalimantan Selatan             14621137\n",
       "Sumatera Selatan               11364511\n",
       "Nusa Tenggara Timur             9359584\n",
       "Kepulauan Riau                  9190746\n",
       "Kalimantan Tengah               8895952\n",
       "Kepulauan Bangka Belitung       8172432\n",
       "Lampung                         8132246\n",
       "Sulawesi Utara                  7103942\n",
       "Sulawesi Tengah                 7027539\n",
       "Aceh                            6522985\n",
       "Kalimantan Barat                6308741\n",
       "Papua                           6217275\n",
       "Kalimantan Utara                5708443\n",
       "Nusa Tenggara Barat             5361080\n",
       "Papua Barat                     4817872\n",
       "Sulawesi Tenggara               4766242\n",
       "Jambi                           4747259\n",
       "Bengkulu                        4034033\n",
       "Maluku                          3499078\n",
       "Gorontalo                       2569824\n",
       "Maluku Utara                    2420767\n",
       "Sulawesi Barat                  2395009\n",
       "Name: Total Recovered, dtype: int64"
      ]
     },
     "execution_count": 89,
     "metadata": {},
     "output_type": "execute_result"
    }
   ],
   "source": [
    "#Find the sum of recovered by province\n",
    "df.groupby('Province')['Total Recovered'].sum().sort_values(ascending=False)"
   ]
  },
  {
   "cell_type": "code",
   "execution_count": 19,
   "metadata": {},
   "outputs": [
    {
     "data": {
      "image/png": "[encoded data removed]",
      "text/plain": [
       "<Figure size 720x504 with 1 Axes>"
      ]
     },
     "metadata": {
      "needs_background": "light"
     },
     "output_type": "display_data"
    }
   ],
   "source": [
    "# Plotting with barchart where the answer is order by province\n",
    "product_group = df.groupby('Province')\n",
    "quantity_ordered = product_group.sum()['Total Recovered']\n",
    "\n",
    "keys = [pair for pair, df in product_group]\n",
    "plt.figure(figsize=(10,7))\n",
    "plt.bar(keys, quantity_ordered)\n",
    "plt.xticks(keys, rotation='vertical', size=8)\n",
    "plt.title('Distribution sum of the Total Recovered Covid-19 by Province')\n",
    "plt.xlabel('Province')\n",
    "plt.ylabel('Total')\n",
    "plt.show()"
   ]
  },
  {
   "cell_type": "code",
   "execution_count": 3,
   "metadata": {},
   "outputs": [],
   "source": [
    "# Make new columns 'month'\n",
    "df['month'] = pd.to_datetime(df['Date']).dt.month"
   ]
  },
  {
   "cell_type": "raw",
   "metadata": {},
   "source": [
    "#Plotting total cases by month using bar chart\n",
    "months = range(1,13)\n",
    "print(months)\n",
    "plt.figure(figsize=(10,7))\n",
    "plt.bar(months,df.groupby('month')['Total Cases'].sum())\n",
    "plt.xticks(months)\n",
    "plt.ylabel('Total Cases')\n",
    "plt.xlabel('Month number')\n",
    "plt.grid()\n",
    "plt.show()"
   ]
  },
  {
   "cell_type": "code",
   "execution_count": 8,
   "metadata": {},
   "outputs": [
    {
     "data": {
      "text/html": [
       "<div>\n",
       "<style scoped>\n",
       "    .dataframe tbody tr th:only-of-type {\n",
       "        vertical-align: middle;\n",
       "    }\n",
       "\n",
       "    .dataframe tbody tr th {\n",
       "        vertical-align: top;\n",
       "    }\n",
       "\n",
       "    .dataframe thead th {\n",
       "        text-align: right;\n",
       "    }\n",
       "</style>\n",
       "<table border=\"1\" class=\"dataframe\">\n",
       "  <thead>\n",
       "    <tr style=\"text-align: right;\">\n",
       "      <th></th>\n",
       "      <th>month</th>\n",
       "      <th>Total Cases</th>\n",
       "      <th>Total Deaths</th>\n",
       "      <th>Total Recovered</th>\n",
       "      <th>Total Active Cases</th>\n",
       "    </tr>\n",
       "  </thead>\n",
       "  <tbody>\n",
       "    <tr>\n",
       "      <th>0</th>\n",
       "      <td>3</td>\n",
       "      <td>39</td>\n",
       "      <td>20</td>\n",
       "      <td>41</td>\n",
       "      <td>-22</td>\n",
       "    </tr>\n",
       "    <tr>\n",
       "      <th>1</th>\n",
       "      <td>3</td>\n",
       "      <td>41</td>\n",
       "      <td>20</td>\n",
       "      <td>41</td>\n",
       "      <td>-20</td>\n",
       "    </tr>\n",
       "    <tr>\n",
       "      <th>2</th>\n",
       "      <td>3</td>\n",
       "      <td>2</td>\n",
       "      <td>0</td>\n",
       "      <td>0</td>\n",
       "      <td>2</td>\n",
       "    </tr>\n",
       "    <tr>\n",
       "      <th>3</th>\n",
       "      <td>3</td>\n",
       "      <td>2</td>\n",
       "      <td>0</td>\n",
       "      <td>3</td>\n",
       "      <td>-1</td>\n",
       "    </tr>\n",
       "    <tr>\n",
       "      <th>4</th>\n",
       "      <td>3</td>\n",
       "      <td>43</td>\n",
       "      <td>20</td>\n",
       "      <td>41</td>\n",
       "      <td>-18</td>\n",
       "    </tr>\n",
       "    <tr>\n",
       "      <th>...</th>\n",
       "      <td>...</td>\n",
       "      <td>...</td>\n",
       "      <td>...</td>\n",
       "      <td>...</td>\n",
       "      <td>...</td>\n",
       "    </tr>\n",
       "    <tr>\n",
       "      <th>21754</th>\n",
       "      <td>12</td>\n",
       "      <td>34715</td>\n",
       "      <td>1056</td>\n",
       "      <td>33566</td>\n",
       "      <td>93</td>\n",
       "    </tr>\n",
       "    <tr>\n",
       "      <th>21755</th>\n",
       "      <td>12</td>\n",
       "      <td>89849</td>\n",
       "      <td>2152</td>\n",
       "      <td>87605</td>\n",
       "      <td>92</td>\n",
       "    </tr>\n",
       "    <tr>\n",
       "      <th>21756</th>\n",
       "      <td>12</td>\n",
       "      <td>59937</td>\n",
       "      <td>3071</td>\n",
       "      <td>56830</td>\n",
       "      <td>36</td>\n",
       "    </tr>\n",
       "    <tr>\n",
       "      <th>21757</th>\n",
       "      <td>12</td>\n",
       "      <td>106045</td>\n",
       "      <td>2889</td>\n",
       "      <td>103061</td>\n",
       "      <td>95</td>\n",
       "    </tr>\n",
       "    <tr>\n",
       "      <th>21758</th>\n",
       "      <td>12</td>\n",
       "      <td>4257243</td>\n",
       "      <td>143858</td>\n",
       "      <td>4105680</td>\n",
       "      <td>7705</td>\n",
       "    </tr>\n",
       "  </tbody>\n",
       "</table>\n",
       "<p>21759 rows × 5 columns</p>\n",
       "</div>"
      ],
      "text/plain": [
       "       month  Total Cases  Total Deaths  Total Recovered  Total Active Cases\n",
       "0          3           39            20               41                 -22\n",
       "1          3           41            20               41                 -20\n",
       "2          3            2             0                0                   2\n",
       "3          3            2             0                3                  -1\n",
       "4          3           43            20               41                 -18\n",
       "...      ...          ...           ...              ...                 ...\n",
       "21754     12        34715          1056            33566                  93\n",
       "21755     12        89849          2152            87605                  92\n",
       "21756     12        59937          3071            56830                  36\n",
       "21757     12       106045          2889           103061                  95\n",
       "21758     12      4257243        143858          4105680                7705\n",
       "\n",
       "[21759 rows x 5 columns]"
      ]
     },
     "execution_count": 8,
     "metadata": {},
     "output_type": "execute_result"
    }
   ],
   "source": [
    "# Analyzing Covid-19 in Indonesia: Death, Confirmed, Active and Recovered Case on monthly basis from january to december using matplotlib\n",
    "# select the columns\n",
    "df_cleaned = df[['month','Total Cases','Total Deaths','Total Recovered','Total Active Cases']]\n",
    "df_cleaned"
   ]
  },
  {
   "cell_type": "code",
   "execution_count": 12,
   "metadata": {},
   "outputs": [
    {
     "data": {
      "text/html": [
       "<div>\n",
       "<style scoped>\n",
       "    .dataframe tbody tr th:only-of-type {\n",
       "        vertical-align: middle;\n",
       "    }\n",
       "\n",
       "    .dataframe tbody tr th {\n",
       "        vertical-align: top;\n",
       "    }\n",
       "\n",
       "    .dataframe thead th {\n",
       "        text-align: right;\n",
       "    }\n",
       "</style>\n",
       "<table border=\"1\" class=\"dataframe\">\n",
       "  <thead>\n",
       "    <tr style=\"text-align: right;\">\n",
       "      <th></th>\n",
       "      <th>Total Cases</th>\n",
       "      <th>Total Deaths</th>\n",
       "      <th>Total Recovered</th>\n",
       "      <th>Total Active Cases</th>\n",
       "    </tr>\n",
       "    <tr>\n",
       "      <th>month</th>\n",
       "      <th></th>\n",
       "      <th></th>\n",
       "      <th></th>\n",
       "      <th></th>\n",
       "    </tr>\n",
       "  </thead>\n",
       "  <tbody>\n",
       "    <tr>\n",
       "      <th>3</th>\n",
       "      <td>39</td>\n",
       "      <td>20</td>\n",
       "      <td>41</td>\n",
       "      <td>-22</td>\n",
       "    </tr>\n",
       "    <tr>\n",
       "      <th>3</th>\n",
       "      <td>41</td>\n",
       "      <td>20</td>\n",
       "      <td>41</td>\n",
       "      <td>-20</td>\n",
       "    </tr>\n",
       "    <tr>\n",
       "      <th>3</th>\n",
       "      <td>2</td>\n",
       "      <td>0</td>\n",
       "      <td>0</td>\n",
       "      <td>2</td>\n",
       "    </tr>\n",
       "    <tr>\n",
       "      <th>3</th>\n",
       "      <td>2</td>\n",
       "      <td>0</td>\n",
       "      <td>3</td>\n",
       "      <td>-1</td>\n",
       "    </tr>\n",
       "    <tr>\n",
       "      <th>3</th>\n",
       "      <td>43</td>\n",
       "      <td>20</td>\n",
       "      <td>41</td>\n",
       "      <td>-18</td>\n",
       "    </tr>\n",
       "    <tr>\n",
       "      <th>...</th>\n",
       "      <td>...</td>\n",
       "      <td>...</td>\n",
       "      <td>...</td>\n",
       "      <td>...</td>\n",
       "    </tr>\n",
       "    <tr>\n",
       "      <th>12</th>\n",
       "      <td>34715</td>\n",
       "      <td>1056</td>\n",
       "      <td>33566</td>\n",
       "      <td>93</td>\n",
       "    </tr>\n",
       "    <tr>\n",
       "      <th>12</th>\n",
       "      <td>89849</td>\n",
       "      <td>2152</td>\n",
       "      <td>87605</td>\n",
       "      <td>92</td>\n",
       "    </tr>\n",
       "    <tr>\n",
       "      <th>12</th>\n",
       "      <td>59937</td>\n",
       "      <td>3071</td>\n",
       "      <td>56830</td>\n",
       "      <td>36</td>\n",
       "    </tr>\n",
       "    <tr>\n",
       "      <th>12</th>\n",
       "      <td>106045</td>\n",
       "      <td>2889</td>\n",
       "      <td>103061</td>\n",
       "      <td>95</td>\n",
       "    </tr>\n",
       "    <tr>\n",
       "      <th>12</th>\n",
       "      <td>4257243</td>\n",
       "      <td>143858</td>\n",
       "      <td>4105680</td>\n",
       "      <td>7705</td>\n",
       "    </tr>\n",
       "  </tbody>\n",
       "</table>\n",
       "<p>21759 rows × 4 columns</p>\n",
       "</div>"
      ],
      "text/plain": [
       "       Total Cases  Total Deaths  Total Recovered  Total Active Cases\n",
       "month                                                                \n",
       "3               39            20               41                 -22\n",
       "3               41            20               41                 -20\n",
       "3                2             0                0                   2\n",
       "3                2             0                3                  -1\n",
       "3               43            20               41                 -18\n",
       "...            ...           ...              ...                 ...\n",
       "12           34715          1056            33566                  93\n",
       "12           89849          2152            87605                  92\n",
       "12           59937          3071            56830                  36\n",
       "12          106045          2889           103061                  95\n",
       "12         4257243        143858          4105680                7705\n",
       "\n",
       "[21759 rows x 4 columns]"
      ]
     },
     "execution_count": 12,
     "metadata": {},
     "output_type": "execute_result"
    }
   ],
   "source": [
    "# setting month as index\n",
    "df_cleaned_new = df_cleaned.set_index(df_cleaned['month']).drop(labels = 'month', axis = 1)\n",
    "df_cleaned_new"
   ]
  },
  {
   "cell_type": "code",
   "execution_count": 13,
   "metadata": {},
   "outputs": [
    {
     "data": {
      "text/plain": [
       "(21759, 12, 12)"
      ]
     },
     "execution_count": 13,
     "metadata": {},
     "output_type": "execute_result"
    }
   ],
   "source": [
    "# append on data_list\n",
    "date_list = []\n",
    "for i in df_cleaned_new.index:\n",
    "    date_list.append(i)\n",
    "date_set = set(date_list)\n",
    "date_new_list = list(date_set)\n",
    "len(date_list), len(date_set), len(date_new_list)"
   ]
  },
  {
   "cell_type": "code",
   "execution_count": 14,
   "metadata": {},
   "outputs": [
    {
     "data": {
      "text/plain": [
       "(12, 12, 12, 12)"
      ]
     },
     "execution_count": 14,
     "metadata": {},
     "output_type": "execute_result"
    }
   ],
   "source": [
    "# Set and append empty list with sum of Total Cases, Total Deaths, Total Active Cases and Total Recovered \n",
    "confirmed_list = []\n",
    "active_list = []\n",
    "deaths_list = []\n",
    "recovered_list = []\n",
    "for i in date_set:\n",
    "    x = df_cleaned_new[df_cleaned_new.index == i]\n",
    "    confirmed_list.append(x['Total Cases'].sum())\n",
    "for i in date_set:\n",
    "    x = df_cleaned_new[df_cleaned_new.index == i]\n",
    "    active_list.append(x['Total Deaths'].sum())\n",
    "for i in date_set:\n",
    "    x = df_cleaned_new[df_cleaned_new.index == i]\n",
    "    deaths_list.append(x['Total Active Cases'].sum())\n",
    "for i in date_set:\n",
    "    x = df_cleaned_new[df_cleaned_new.index == i]\n",
    "    recovered_list.append(x['Total Recovered'].sum())\n",
    "len(confirmed_list), len(active_list), len(deaths_list), len(recovered_list)"
   ]
  },
  {
   "cell_type": "code",
   "execution_count": 16,
   "metadata": {
    "scrolled": true
   },
   "outputs": [
    {
     "data": {
      "text/html": [
       "<div>\n",
       "<style scoped>\n",
       "    .dataframe tbody tr th:only-of-type {\n",
       "        vertical-align: middle;\n",
       "    }\n",
       "\n",
       "    .dataframe tbody tr th {\n",
       "        vertical-align: top;\n",
       "    }\n",
       "\n",
       "    .dataframe thead th {\n",
       "        text-align: right;\n",
       "    }\n",
       "</style>\n",
       "<table border=\"1\" class=\"dataframe\">\n",
       "  <thead>\n",
       "    <tr style=\"text-align: right;\">\n",
       "      <th></th>\n",
       "      <th>Total Cases</th>\n",
       "      <th>Total Deaths</th>\n",
       "      <th>Total Recovered</th>\n",
       "      <th>Total Active Cases</th>\n",
       "    </tr>\n",
       "    <tr>\n",
       "      <th>month</th>\n",
       "      <th></th>\n",
       "      <th></th>\n",
       "      <th></th>\n",
       "      <th></th>\n",
       "    </tr>\n",
       "  </thead>\n",
       "  <tbody>\n",
       "    <tr>\n",
       "      <th>1</th>\n",
       "      <td>55969078</td>\n",
       "      <td>1628593</td>\n",
       "      <td>8432876</td>\n",
       "      <td>45907609</td>\n",
       "    </tr>\n",
       "    <tr>\n",
       "      <th>2</th>\n",
       "      <td>68472201</td>\n",
       "      <td>1878496</td>\n",
       "      <td>9146398</td>\n",
       "      <td>57447307</td>\n",
       "    </tr>\n",
       "    <tr>\n",
       "      <th>3</th>\n",
       "      <td>88777958</td>\n",
       "      <td>2421312</td>\n",
       "      <td>8264655</td>\n",
       "      <td>78091991</td>\n",
       "    </tr>\n",
       "    <tr>\n",
       "      <th>4</th>\n",
       "      <td>95900711</td>\n",
       "      <td>2636104</td>\n",
       "      <td>6683577</td>\n",
       "      <td>86581030</td>\n",
       "    </tr>\n",
       "    <tr>\n",
       "      <th>5</th>\n",
       "      <td>109300962</td>\n",
       "      <td>3073455</td>\n",
       "      <td>6717224</td>\n",
       "      <td>99510283</td>\n",
       "    </tr>\n",
       "    <tr>\n",
       "      <th>6</th>\n",
       "      <td>120129494</td>\n",
       "      <td>3389869</td>\n",
       "      <td>9603140</td>\n",
       "      <td>107136485</td>\n",
       "    </tr>\n",
       "    <tr>\n",
       "      <th>7</th>\n",
       "      <td>177398019</td>\n",
       "      <td>4825775</td>\n",
       "      <td>30067195</td>\n",
       "      <td>142505049</td>\n",
       "    </tr>\n",
       "    <tr>\n",
       "      <th>8</th>\n",
       "      <td>246286207</td>\n",
       "      <td>7694159</td>\n",
       "      <td>25399970</td>\n",
       "      <td>213192078</td>\n",
       "    </tr>\n",
       "    <tr>\n",
       "      <th>9</th>\n",
       "      <td>264201431</td>\n",
       "      <td>8919016</td>\n",
       "      <td>8884858</td>\n",
       "      <td>246397557</td>\n",
       "    </tr>\n",
       "    <tr>\n",
       "      <th>10</th>\n",
       "      <td>284425843</td>\n",
       "      <td>9646014</td>\n",
       "      <td>5310522</td>\n",
       "      <td>269469307</td>\n",
       "    </tr>\n",
       "    <tr>\n",
       "      <th>11</th>\n",
       "      <td>283353174</td>\n",
       "      <td>9564525</td>\n",
       "      <td>4094413</td>\n",
       "      <td>269694236</td>\n",
       "    </tr>\n",
       "    <tr>\n",
       "      <th>12</th>\n",
       "      <td>60956627</td>\n",
       "      <td>1946810</td>\n",
       "      <td>5753232</td>\n",
       "      <td>53256585</td>\n",
       "    </tr>\n",
       "  </tbody>\n",
       "</table>\n",
       "</div>"
      ],
      "text/plain": [
       "       Total Cases  Total Deaths  Total Recovered  Total Active Cases\n",
       "month                                                                \n",
       "1         55969078       1628593          8432876            45907609\n",
       "2         68472201       1878496          9146398            57447307\n",
       "3         88777958       2421312          8264655            78091991\n",
       "4         95900711       2636104          6683577            86581030\n",
       "5        109300962       3073455          6717224            99510283\n",
       "6        120129494       3389869          9603140           107136485\n",
       "7        177398019       4825775         30067195           142505049\n",
       "8        246286207       7694159         25399970           213192078\n",
       "9        264201431       8919016          8884858           246397557\n",
       "10       284425843       9646014          5310522           269469307\n",
       "11       283353174       9564525          4094413           269694236\n",
       "12        60956627       1946810          5753232            53256585"
      ]
     },
     "execution_count": 16,
     "metadata": {},
     "output_type": "execute_result"
    }
   ],
   "source": [
    "# Make new dataframe \n",
    "new_df_list = [date_set, confirmed_list, active_list, deaths_list, recovered_list]\n",
    "new_df = pd.DataFrame(new_df_list, index = ['month','Total Cases','Total Deaths','Total Recovered','Total Active Cases'])\n",
    "new_df_2 = new_df.T\n",
    "new_df_grouped_full = new_df_2.set_index(new_df_2['month']).drop(labels = 'month', axis = 1).sort_values(by='month')\n",
    "new_df_grouped_full"
   ]
  },
  {
   "cell_type": "code",
   "execution_count": 22,
   "metadata": {},
   "outputs": [
    {
     "data": {
      "text/plain": [
       "[Text(0.5, 1.0, 'COVID - 19 Cases from month 1 - 12 '),\n",
       " Text(0.5, 0, 'Month'),\n",
       " Text(0, 0.5, 'Number of COVID -19 Cases')]"
      ]
     },
     "execution_count": 22,
     "metadata": {},
     "output_type": "execute_result"
    },
    {
     "data": {
      "image/png": "[encoded data removed]",
      "text/plain": [
       "<Figure size 1080x360 with 1 Axes>"
      ]
     },
     "metadata": {
      "needs_background": "light"
     },
     "output_type": "display_data"
    }
   ],
   "source": [
    "# Plotting ratio of Total Cases and Total Active Cases with Linechart using Matplotlib\n",
    "x = new_df_grouped_full.index\n",
    "y = new_df_grouped_full['Total Cases']\n",
    "z = new_df_grouped_full['Total Active Cases']\n",
    "fig, ax = plt.subplots(figsize = (15,5))\n",
    "ax.plot(x,y,z ,linewidth = 1.5)\n",
    "ax.legend(['Confirmed Cases','Active Cases'])\n",
    "ax.set(title = \"COVID - 19 Cases from month 1 - 12 \", xlabel = \"Month\", ylabel = \"Number of COVID -19 Cases\")"
   ]
  },
  {
   "cell_type": "code",
   "execution_count": 20,
   "metadata": {},
   "outputs": [
    {
     "data": {
      "text/plain": [
       "[Text(0.5, 1.0, 'COVID - 19 Cases from month 1 - 12 '),\n",
       " Text(0.5, 0, 'Month'),\n",
       " Text(0, 0.5, 'Number of COVID -19 Cases')]"
      ]
     },
     "execution_count": 20,
     "metadata": {},
     "output_type": "execute_result"
    },
    {
     "data": {
      "image/png": "[encoded data removed]",
      "text/plain": [
       "<Figure size 1080x360 with 1 Axes>"
      ]
     },
     "metadata": {
      "needs_background": "light"
     },
     "output_type": "display_data"
    }
   ],
   "source": [
    "# Plotting ratio of Total Recovered and Total Active Cases with Linechart using Matplotlib\n",
    "x = new_df_grouped_full.index\n",
    "y = new_df_grouped_full['Total Active Cases']\n",
    "z = new_df_grouped_full['Total Recovered']\n",
    "fig, ax = plt.subplots(figsize = (15,5))\n",
    "ax.plot(x,y,z ,linewidth = 1.5)\n",
    "ax.legend(['Active Cases','Recovered'])\n",
    "ax.set(title = \"COVID - 19 Cases from month 1 - 12 \", xlabel = \"Month\", ylabel = \"Number of COVID -19 Cases\")"
   ]
  }
 ],
 "metadata": {
  "kernelspec": {
   "display_name": "Python 3",
   "language": "python",
   "name": "python3"
  },
  "language_info": {
   "codemirror_mode": {
    "name": "ipython",
    "version": 3
   },
   "file_extension": ".py",
   "mimetype": "text/x-python",
   "name": "python",
   "nbconvert_exporter": "python",
   "pygments_lexer": "ipython3",
   "version": "3.8.6"
  }
 },
 "nbformat": 4,
 "nbformat_minor": 4
}
